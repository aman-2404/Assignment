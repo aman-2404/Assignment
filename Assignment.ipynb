{
 "cells": [
  {
   "cell_type": "code",
   "execution_count": 14,
   "id": "37e41754-2f9e-4bf3-941a-5766a6c7160f",
   "metadata": {},
   "outputs": [],
   "source": [
    "# Q1\n",
    "The three measures of central tendency are:\n",
    "1- Mean\n",
    "2- Median\n",
    "3- Mode"
   ]
  },
  {
   "cell_type": "code",
   "execution_count": null,
   "id": "93d9dbfc-bc75-4017-a2db-bb8ead26869d",
   "metadata": {},
   "outputs": [],
   "source": [
    "# Q2\n",
    "Mean: The mean is calculated by summing up all the values in a dataset and then dividing by the total number \n",
    "of values. It represents the average value of the data.\n",
    "\n",
    "Median: The median is the middle value in a dataset when the values are arranged in ascending or descending \n",
    "order.\n",
    "\n",
    "Mode: The mode is the value that appears most frequently in a dataset. "
   ]
  },
  {
   "cell_type": "code",
   "execution_count": 17,
   "id": "cfb93090-ccb9-4f7f-888d-9c4447e9ff15",
   "metadata": {},
   "outputs": [],
   "source": [
    "# Q3 \n",
    "import numpy as np\n",
    "from scipy import stats\n",
    "data = [178,177,176,177,178.2,178,175,179,180,175,178.9,176.2,177,172.5,178,176.5]\n",
    "\n",
    "mean= np.mean(data)\n",
    "median=np.median(data)\n",
    "mode=stats.mode(data)\n",
    "\n",
    "print(mean)\n",
    "print(median)\n",
    "print(mode)"
   ]
  },
  {
   "cell_type": "code",
   "execution_count": 12,
   "id": "ebb14ceb-f5a5-4892-8c65-703edb879f23",
   "metadata": {},
   "outputs": [
    {
     "data": {
      "text/plain": [
       "1.7885814036548633"
      ]
     },
     "execution_count": 12,
     "metadata": {},
     "output_type": "execute_result"
    }
   ],
   "source": [
    "# Q4\n",
    "import numpy as np\n",
    "data2= [178,177,176,177,178.2,178,175,179,180,175,178.9,176.2,177,172.5,178,176.5]\n",
    "np.std(data2)"
   ]
  },
  {
   "cell_type": "code",
   "execution_count": null,
   "id": "0ebb63fc-2d5a-4ed7-8e3c-ad1c497339c2",
   "metadata": {},
   "outputs": [],
   "source": [
    "# Q5\n",
    "Measures of dispersion, including range, variance, and standard deviation, are used to quantify the spread \n",
    "or variability of data points within a dataset. \n",
    "Range: The range is the simplest measure of dispersion. It gives a quick understanding of how widely the data\n",
    "points are spread out.\n",
    "Variance: Variance quantifies the average squared deviation of each data point from the mean.\n",
    "Standard Deviation: The standard deviation is the square root of the variance and is the most widely\n",
    "used measure of dispersion. "
   ]
  },
  {
   "cell_type": "code",
   "execution_count": null,
   "id": "a45dda0f-b8d0-4cfc-8f10-a890e6477150",
   "metadata": {},
   "outputs": [],
   "source": [
    "# Q6\n",
    "A Venn diagram is a visual representation used to show the relationships and commonalities between different \n",
    "sets or groups of items. It is composed of overlapping circles or other shapes, each representing a specific \n",
    "set, and the areas of overlap represent the elements shared by those sets.\n"
   ]
  },
  {
   "cell_type": "code",
   "execution_count": null,
   "id": "e3c73b38-f23d-4450-88a4-767eee72e1d4",
   "metadata": {},
   "outputs": [],
   "source": [
    "# Q7\n",
    "(i) A ∩ B = {2}\n",
    "(ii) A ⋃ B = {0, 2, 3, 4, 5, 6, 7, 8, 10}"
   ]
  },
  {
   "cell_type": "code",
   "execution_count": null,
   "id": "3f5a447e-528f-43c0-ae49-7018396ec7e3",
   "metadata": {},
   "outputs": [],
   "source": [
    "# Q8\n",
    "Skewness in data reflects its distribution's asymmetry. Positively skewed data has a tail on the right due to\n",
    "outliers or large values, causing mean > median. Negatively skewed data has a longer left tail, resulting in \n",
    "median > mean. Symmetrical data has balanced tails around the central value."
   ]
  },
  {
   "cell_type": "code",
   "execution_count": null,
   "id": "5a09d793-d542-4974-bc6e-3ed429b5ee7b",
   "metadata": {},
   "outputs": [],
   "source": [
    "# Q9\n",
    "Right-skewed data positions median < mean."
   ]
  },
  {
   "cell_type": "code",
   "execution_count": null,
   "id": "a1dff017-9501-42e1-b45f-faf52d192bbb",
   "metadata": {},
   "outputs": [],
   "source": [
    "# Q10\n",
    "\n",
    "Covariance measures how two variables change together, but it doesn't indicate the strength. Correlation\n",
    "measures the strength and direction of their relationship, unaffected by scale. Both help understand \n",
    "associations. In statistics, they aid in modeling, risk assessment, and decision-making."
   ]
  },
  {
   "cell_type": "code",
   "execution_count": null,
   "id": "c9af27eb-c66b-46fa-8b14-cae17c725636",
   "metadata": {},
   "outputs": [],
   "source": [
    "# Q 11\n",
    "The formula for calculating the sample mean (average) is:\n",
    "\n",
    "Sample Mean (x̄) = Sum of all values / Number of values\n",
    "\n",
    "Example calculation:\n",
    "\n",
    "Consider a dataset: [12, 15, 18, 20, 22]\n",
    "\n",
    "Sum of values = 12 + 15 + 18 + 20 + 22 = 87\n",
    "Number of values = 5\n",
    "\n",
    "Sample Mean (x̄) = 87 / 5 = 17.4\n",
    "\n",
    "So, the sample mean of the given dataset is 17.4."
   ]
  },
  {
   "cell_type": "code",
   "execution_count": null,
   "id": "dc1fe99e-b606-4c7c-8e85-3e004e9ddb20",
   "metadata": {},
   "outputs": [],
   "source": [
    "# Q 12\n",
    "For a normal distribution, mean = median = mode due to symmetry."
   ]
  },
  {
   "cell_type": "code",
   "execution_count": null,
   "id": "c4246ed2-6a76-4d79-9643-75bd534dec41",
   "metadata": {},
   "outputs": [],
   "source": [
    "# Q13\n",
    "Covariance measures direction of linear relationship, scale-dependent. Correlation also measures strength, \n",
    "scale-independent. Both assess association between variables."
   ]
  },
  {
   "cell_type": "code",
   "execution_count": null,
   "id": "c4d21e87-c661-43f7-aedb-ebfffae42767",
   "metadata": {},
   "outputs": [],
   "source": [
    "# Q 14\n",
    "Outliers shift mean, increase range, variance. \n",
    "Eg: [5, 6, 7, 8, 200] → mean 45.2, [10, 12, 15, 17, 100] → range 90, variance 1296."
   ]
  }
 ],
 "metadata": {
  "kernelspec": {
   "display_name": "Python 3 (ipykernel)",
   "language": "python",
   "name": "python3"
  },
  "language_info": {
   "codemirror_mode": {
    "name": "ipython",
    "version": 3
   },
   "file_extension": ".py",
   "mimetype": "text/x-python",
   "name": "python",
   "nbconvert_exporter": "python",
   "pygments_lexer": "ipython3",
   "version": "3.10.8"
  }
 },
 "nbformat": 4,
 "nbformat_minor": 5
}
